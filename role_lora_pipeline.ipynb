{
 "cells": [
  {
   "cell_type": "code",
   "execution_count": null,
   "metadata": {},
   "outputs": [],
   "source": [
    "from transformers import AutoModelForCausalLM\n",
    "from peft import LoraConfig, get_peft_model\n",
    "\n",
    "BASE_MODEL = \"meta-llama/Llama-2-7b-hf\"  # or gpt2, bert, etc.\n",
    "\n",
    "model = AutoModelForCausalLM.from_pretrained(\n",
    "    BASE_MODEL,\n",
    "    device_map=\"auto\"\n",
    ")\n",
    "\n",
    "def get_lora_config(base_model: str) -> LoraConfig:\n",
    "    base_model_lower = base_model.lower()\n",
    "    if \"llama\" in base_model_lower or \"mistral\" in base_model_lower:\n",
    "        target_modules = [\"q_proj\", \"k_proj\", \"v_proj\", \"o_proj\"]\n",
    "    elif \"gpt2\" in base_model_lower:\n",
    "        target_modules = [\"c_attn\"]\n",
    "    elif \"bert\" in base_model_lower:\n",
    "        target_modules = [\"query\", \"key\", \"value\"]\n",
    "    else:\n",
    "        target_modules = [\"q_proj\", \"k_proj\", \"v_proj\", \"o_proj\"]\n",
    "\n",
    "    print(f\"[LoRA] Using target_modules = {target_modules}\")\n",
    "    return LoraConfig(\n",
    "        r=16,\n",
    "        lora_alpha=32,\n",
    "        target_modules=target_modules,\n",
    "        lora_dropout=0.05,\n",
    "        bias=\"none\",\n",
    "        task_type=\"CAUSAL_LM\",\n",
    "    )\n",
    "\n",
    "lora_config = get_lora_config(BASE_MODEL)\n",
    "model = get_peft_model(model, lora_config)"
   ]
  },
  {
   "cell_type": "markdown",
   "metadata": {},
   "source": [
    "## Continue your notebook cells here\n",
    "This patch ensures LoRA works with GPT-2, LLaMA, Mistral, and BERT models without breaking."
   ]
  }
 ],
 "metadata": {
  "kernelspec": {
   "display_name": "Python 3",
   "language": "python",
   "name": "python3"
  },
  "language_info": {
   "name": "python",
   "version": "3.12"
  }
 },
 "nbformat": 4,
 "nbformat_minor": 5
}
