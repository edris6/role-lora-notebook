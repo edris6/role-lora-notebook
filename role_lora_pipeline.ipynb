{
 "cells": [
  {
   "cell_type": "markdown",
   "id": "8bd6d317",
   "metadata": {},
   "source": [
    "# Role LoRA Fine-Tuning Notebook\n",
    "This notebook loads a base GPT-Neo model, applies LoRA adapters, tokenizes your dataset, and trains with the HuggingFace Trainer API."
   ]
  },
  {
   "cell_type": "code",
   "id": "c53fdb36",
   "metadata": {},
   "outputs": [],
   "source": [
    "# --- Install dependencies ---\n",
    "!pip install -q transformers datasets peft bitsandbytes"
   ]
  },
  {
   "cell_type": "code",
   "id": "bf71e1d1",
   "metadata": {},
   "outputs": [],
   "source": [
    "# --- Imports ---\n",
    "import torch\n",
    "from transformers import AutoTokenizer, AutoModelForCausalLM, Trainer, TrainingArguments, DataCollatorForSeq2Seq\n",
    "from peft import LoraConfig, get_peft_model, prepare_model_for_int8_training, TaskType\n",
    "from datasets import load_dataset"
   ]
  },
  {
   "cell_type": "code",
   "id": "82218482",
   "metadata": {},
   "outputs": [],
   "source": [
    "# --- Load dataset ---\n",
    "dataset = load_dataset('json', data_files={'train': 'train.json'})['train']\n",
    "texts = dataset['text']"
   ]
  },
  {
   "cell_type": "code",
   "id": "82b9cc30",
   "metadata": {},
   "outputs": [],
   "source": [
    "# --- Load tokenizer ---\n",
    "BASE_MODEL = 'EleutherAI/gpt-neo-1.3B'  # change to your model\n",
    "tokenizer = AutoTokenizer.from_pretrained(BASE_MODEL)\n",
    "tokenizer.pad_token = tokenizer.eos_token"
   ]
  },
  {
   "cell_type": "code",
   "id": "aed11141",
   "metadata": {},
   "outputs": [],
   "source": [
    "# --- Tokenize dataset with padding ---\n",
    "def tokenize_function(examples):\n",
    "    return tokenizer(examples, padding='max_length', truncation=True, max_length=128)\n",
    "\n",
    "tokenized = dataset.map(lambda x: tokenize_function(x['text']), batched=True)"
   ]
  },
  {
   "cell_type": "code",
   "id": "1e2dcada",
   "metadata": {},
   "outputs": [],
   "source": [
    "# --- Load base model and prepare for LoRA (8-bit) ---\n",
    "bnb_config = BitsAndBytesConfig(load_in_8bit=True)\n",
    "\n",
    "model = AutoModelForCausalLM.from_pretrained(\n",
    "    BASE_MODEL,\n",
    "    device_map='auto',\n",
    "    quantization_config=bnb_config\n",
    ")\n",
    "\n",
    "# Prepare model for int8 training (necessary for LoRA)\n",
    "model = prepare_model_for_int8_training(model)"
   ]
  },
  {
   "cell_type": "code",
   "id": "399ce29a",
   "metadata": {},
   "outputs": [],
   "source": [
    "# --- Configure LoRA ---\n",
    "lora_config = LoraConfig(\n",
    "    r=16,\n",
    "    lora_alpha=32,\n",
    "    target_modules=['q_proj','v_proj'],  # supported modules in GPTNeoAttention\n",
    "    lora_dropout=0.05,\n",
    "    bias='none',\n",
    "    task_type=TaskType.CAUSAL_LM\n",
    ")\n",
    "\n",
    "model = get_peft_model(model, lora_config)"
   ]
  },
  {
   "cell_type": "code",
   "id": "d1463550",
   "metadata": {},
   "outputs": [],
   "source": [
    "# --- Data collator ---\n",
    "data_collator = DataCollatorForSeq2Seq(tokenizer, padding=True)"
   ]
  },
  {
   "cell_type": "code",
   "id": "ff84353c",
   "metadata": {},
   "outputs": [],
   "source": [
    "# --- Training arguments ---\n",
    "training_args = TrainingArguments(\n",
    "    output_dir='role-lora',\n",
    "    per_device_train_batch_size=2,\n",
    "    gradient_accumulation_steps=8,\n",
    "    num_train_epochs=3,\n",
    "    learning_rate=2e-4,\n",
    "    fp16=True,\n",
    "    logging_steps=10,\n",
    "    save_strategy='epoch',\n",
    "    report_to='none'  # disables WandB logging\n",
    ")"
   ]
  },
  {
   "cell_type": "code",
   "id": "0dd4e5f8",
   "metadata": {},
   "outputs": [],
   "source": [
    "# --- Initialize Trainer ---\n",
    "trainer = Trainer(\n",
    "    model=model,\n",
    "    args=training_args,\n",
    "    train_dataset=tokenized,\n",
    "    data_collator=data_collator\n",
    ")"
   ]
  },
  {
   "cell_type": "code",
   "id": "a273c902",
   "metadata": {},
   "outputs": [],
   "source": [
    "# --- Train model ---\n",
    "trainer.train()"
   ]
  }
 ],
 "metadata": {
  "kernelspec": {
   "display_name": "Python 3",
   "language": "python",
   "name": "python3"
  },
  "language_info": {
   "name": "python",
   "version": "3.12"
  }
 },
 "nbformat": 4,
 "nbformat_minor": 5
}
