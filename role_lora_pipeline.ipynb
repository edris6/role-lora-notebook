{
 "cells": [
  {
   "cell_type": "markdown",
   "metadata": {},
   "source": [
    "[![Open In Colab](https://colab.research.google.com/assets/colab-badge.svg)](https://colab.research.google.com/github/your_repo/role_lora_training.ipynb)\n",
    "\n",
    "# Role-LoRA Fine-Tuning Notebook\n",
    "This notebook fine-tunes GPT-Neo-125M with LoRA.  \n",
    "*If a file named `wandb_key.txt` (containing only your Weights & Biases API key) is present, logging will be enabled. Otherwise W&B is disabled automatically.*"
   ],
   "id": "dfc83b00-570f-4698-886a-ca148e41e688"
  },
  {
   "cell_type": "code",
   "metadata": {},
   "source": [
    "# --- Install dependencies ---\n",
    "!pip install -q transformers datasets peft accelerate bitsandbytes wandb"
   ],
   "outputs": [],
   "execution_count": null,
   "id": "a5664e2d-57ef-4c38-9383-cc1ff1f791a2"
  },
  {
   "cell_type": "code",
   "metadata": {},
   "source": [
    "# --- W&B auto-setup ---\n",
    "import os\n",
    "wandb_key_file = 'wandb_key.txt'\n",
    "if os.path.isfile(wandb_key_file):\n",
    "    with open(wandb_key_file) as f:\n",
    "        key = f.read().strip()\n",
    "    if key:\n",
    "        import wandb\n",
    "        wandb.login(key=key)\n",
    "        print('Weights & Biases logging ENABLED')\n",
    "    else:\n",
    "        os.environ['WANDB_DISABLED'] = 'true'\n",
    "        print('wandb_key.txt is empty \u2013 W&B disabled.')\n",
    "else:\n",
    "    os.environ['WANDB_DISABLED'] = 'true'\n",
    "    print('No wandb_key.txt \u2013 W&B disabled.')"
   ],
   "outputs": [],
   "execution_count": null,
   "id": "6c9f63ba-215b-4ee5-a0d5-2d2012c7553d"
  },
  {
   "cell_type": "code",
   "metadata": {},
   "source": [
    "BASE_MODEL = \"EleutherAI/gpt-neo-125M\"   # ~500 MB"
   ],
   "outputs": [],
   "execution_count": null,
   "id": "f3eb09b3-b3ca-4aef-ac27-a0c4e6cef4e6"
  },
  {
   "cell_type": "code",
   "metadata": {},
   "source": [
    "# --- Build tiny toy dataset ---\n",
    "from datasets import Dataset\n",
    "\n",
    "examples = [\n",
    "    {\"role\": \"Detective\", \"text\": \"Role: Detective\\nUser: Describe a crime scene.\\nAssistant: The alley smelled of rust and secrets, every shadow a possible clue.\"},\n",
    "    {\"role\": \"Poet\", \"text\": \"Role: Poet\\nUser: Write about the sunrise.\\nAssistant: Dawn spills saffron light across the quiet roofs of the city.\"},\n",
    "    {\"role\": \"Comedian\", \"text\": \"Role: Comedian\\nUser: Tell a joke about cats.\\nAssistant: Why did the cat join Instagram? To get more pawsitive feedback!\"}\n",
    "]\n",
    "dataset = Dataset.from_list(examples)"
   ],
   "outputs": [],
   "execution_count": null,
   "id": "868a3493-545e-43c9-a090-5b3f5f070333"
  },
  {
   "cell_type": "code",
   "metadata": {},
   "source": [
    "# --- Tokenize ---\n",
    "from transformers import AutoTokenizer\n",
    "tokenizer = AutoTokenizer.from_pretrained(BASE_MODEL)\n",
    "tokenizer.pad_token = tokenizer.eos_token\n",
    "\n",
    "def tokenize_fn(example):\n",
    "    return tokenizer(example[\"text\"], truncation=True, max_length=512)\n",
    "\n",
    "tokenized = dataset.map(tokenize_fn)"
   ],
   "outputs": [],
   "execution_count": null,
   "id": "f78e5cfd-e0a3-4d39-b64f-a2825313ce6f"
  },
  {
   "cell_type": "code",
   "metadata": {},
   "source": [
    "# --- Load base model + LoRA (fixed) ---\n",
    "from transformers import AutoModelForCausalLM, BitsAndBytesConfig\n",
    "from peft import LoraConfig, get_peft_model\n",
    "\n",
    "bnb_config = BitsAndBytesConfig(load_in_8bit=True)\n",
    "\n",
    "model = AutoModelForCausalLM.from_pretrained(\n",
    "    BASE_MODEL,\n",
    "    quantization_config=bnb_config,\n",
    "    device_map=\"auto\"\n",
    ")\n",
    "\n",
    "lora_config = LoraConfig(\n",
    "    r=16,\n",
    "    lora_alpha=32,\n",
    "    target_modules=[\"attn\"],  # correct for GPT-Neo\n",
    "    lora_dropout=0.05,\n",
    "    bias=\"none\",\n",
    "    task_type=\"CAUSAL_LM\"\n",
    ")\n",
    "\n",
    "model = get_peft_model(model, lora_config)"
   ],
   "outputs": [],
   "execution_count": null,
   "id": "5b0b3eed-cab0-4cb1-9b99-9e4051b2ff42"
  },
  {
   "cell_type": "code",
   "metadata": {},
   "source": [
    "# --- Training ---\n",
    "from transformers import TrainingArguments, Trainer\n",
    "\n",
    "training_args = TrainingArguments(\n",
    "    output_dir=\"role-lora\",\n",
    "    per_device_train_batch_size=2,\n",
    "    gradient_accumulation_steps=8,\n",
    "    num_train_epochs=3,\n",
    "    learning_rate=2e-4,\n",
    "    fp16=True,\n",
    "    logging_steps=10,\n",
    "    save_strategy=\"epoch\"\n",
    ")\n",
    "\n",
    "trainer = Trainer(\n",
    "    model=model,\n",
    "    args=training_args,\n",
    "    train_dataset=tokenized\n",
    ")\n",
    "\n",
    "trainer.train()"
   ],
   "outputs": [],
   "execution_count": null,
   "id": "690c405d-4336-43e5-a8c6-65fe092c688e"
  },
  {
   "cell_type": "code",
   "metadata": {},
   "source": [
    "# --- Save LoRA adapter ---\n",
    "model.save_pretrained(\"role-lora/adapter\")\n",
    "tokenizer.save_pretrained(\"role-lora/adapter\")"
   ],
   "outputs": [],
   "execution_count": null,
   "id": "ca08df46-6cc7-479c-845b-5090068b1f7f"
  },
  {
   "cell_type": "code",
   "metadata": {},
   "source": [
    "# --- Inference helper ---\n",
    "from peft import PeftModel\n",
    "\n",
    "base = AutoModelForCausalLM.from_pretrained(BASE_MODEL, device_map=\"auto\")\n",
    "lora = PeftModel.from_pretrained(base, \"role-lora/adapter\")\n",
    "\n",
    "def generate(role, user_prompt):\n",
    "    full_prompt = f\"Role: {role}\\nUser: {user_prompt}\\nAssistant:\"\n",
    "    inputs = tokenizer(full_prompt, return_tensors=\"pt\").to(lora.device)\n",
    "    out = lora.generate(\n",
    "        **inputs,\n",
    "        max_new_tokens=150,\n",
    "        do_sample=True,\n",
    "        temperature=0.8,\n",
    "        top_p=0.9\n",
    "    )\n",
    "    print(tokenizer.decode(out[0], skip_special_tokens=True))\n",
    "\n",
    "generate(\"Poet\", \"Write about an autumn forest.\")\n",
    "generate(\"Detective\", \"Describe a mysterious stranger.\")"
   ],
   "outputs": [],
   "execution_count": null,
   "id": "0cd7323f-5674-48c6-9483-8bfab0a87671"
  }
 ],
 "metadata": {
  "kernelspec": {
   "display_name": "Python 3",
   "language": "python",
   "name": "python3"
  },
  "language_info": {
   "name": "python",
   "version": "3.12"
  }
 },
 "nbformat": 4,
 "nbformat_minor": 5
}